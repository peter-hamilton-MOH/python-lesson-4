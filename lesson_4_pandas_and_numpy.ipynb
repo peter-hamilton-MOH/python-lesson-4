{
 "cells": [
  {
   "cell_type": "markdown",
   "id": "628b4c88",
   "metadata": {
    "slideshow": {
     "slide_type": "slide"
    }
   },
   "source": [
    "### <center><h2>Lesson 4: Pandas and NumPy</h2></center>"
   ]
  },
  {
   "cell_type": "markdown",
   "id": "6a2f1ee3",
   "metadata": {
    "slideshow": {
     "slide_type": "slide"
    }
   },
   "source": [
    "<center><h3>Pandas is built on top of NumpPy</h3></center>\n",
    "<br/>\n",
    "<center><img src=\"./images/math_panda.jpg\" width=\"600\" /></center>"
   ]
  },
  {
   "cell_type": "markdown",
   "id": "c10c81af",
   "metadata": {
    "slideshow": {
     "slide_type": "slide"
    }
   },
   "source": [
    "* The main class of Pandas is the **DataFrame**: a spreadsheet object you can use in Python\n",
    "* NumpPy contains a optimized **array** class, capable of mathematical operations and extremely fast calculations on large set of numbers"
   ]
  },
  {
   "cell_type": "markdown",
   "id": "2c11099c",
   "metadata": {
    "slideshow": {
     "slide_type": "slide"
    }
   },
   "source": [
    "<center><h3>Pandas is built on top of NumpPy</h3></center>\n",
    "<br/>\n",
    "<center><img src=\"./images/snake_math.jpg\" width=\"600\" /></center>"
   ]
  },
  {
   "cell_type": "code",
   "execution_count": 1,
   "id": "6523d423",
   "metadata": {
    "slideshow": {
     "slide_type": "slide"
    }
   },
   "outputs": [],
   "source": [
    "import numpy as np"
   ]
  },
  {
   "cell_type": "code",
   "execution_count": 2,
   "id": "d801cb32",
   "metadata": {
    "slideshow": {
     "slide_type": "fragment"
    }
   },
   "outputs": [],
   "source": [
    "np_ones = np.array([1, 1, 1, 1])\n",
    "py_ones = [1, 1, 1, 1]"
   ]
  },
  {
   "cell_type": "code",
   "execution_count": 3,
   "id": "de6b9349",
   "metadata": {
    "slideshow": {
     "slide_type": "fragment"
    }
   },
   "outputs": [
    {
     "data": {
      "text/plain": [
       "array([2, 2, 2, 2])"
      ]
     },
     "execution_count": 3,
     "metadata": {},
     "output_type": "execute_result"
    }
   ],
   "source": [
    "np_ones + np_ones"
   ]
  },
  {
   "cell_type": "code",
   "execution_count": 4,
   "id": "a14c6bce",
   "metadata": {
    "slideshow": {
     "slide_type": "fragment"
    }
   },
   "outputs": [
    {
     "data": {
      "text/plain": [
       "[1, 1, 1, 1, 1, 1, 1, 1]"
      ]
     },
     "execution_count": 4,
     "metadata": {},
     "output_type": "execute_result"
    }
   ],
   "source": [
    "py_ones + py_ones"
   ]
  },
  {
   "cell_type": "markdown",
   "id": "1b344104",
   "metadata": {
    "slideshow": {
     "slide_type": "slide"
    }
   },
   "source": [
    "#### NumPy arrays can be used for various arithmetic operations"
   ]
  },
  {
   "cell_type": "code",
   "execution_count": 5,
   "id": "d3df4323",
   "metadata": {
    "slideshow": {
     "slide_type": "fragment"
    }
   },
   "outputs": [
    {
     "data": {
      "text/plain": [
       "array([2450.25, 2450.25, 2450.25, 2450.25])"
      ]
     },
     "execution_count": 5,
     "metadata": {},
     "output_type": "execute_result"
    }
   ],
   "source": [
    "np_ones = np.array([1, 1, 1, 1])\n",
    "((np_ones * 99) / (np_ones * 2)) ** 2"
   ]
  },
  {
   "cell_type": "markdown",
   "id": "c6ad0ec9",
   "metadata": {
    "slideshow": {
     "slide_type": "slide"
    }
   },
   "source": [
    "#### NumPy is fast!"
   ]
  },
  {
   "cell_type": "code",
   "execution_count": 6,
   "id": "2e1ce00a",
   "metadata": {
    "slideshow": {
     "slide_type": "fragment"
    }
   },
   "outputs": [
    {
     "name": "stdout",
     "output_type": "stream",
     "text": [
      "336 ms ± 21.2 ms per loop (mean ± std. dev. of 7 runs, 10 loops each)\n"
     ]
    }
   ],
   "source": [
    "%%timeit\n",
    "np_array_1 = np.random.rand(10_000_000)\n",
    "np_array_2 = np.random.rand(10_000_000)\n",
    "np_array_3 = np_array_1 + np_array_2"
   ]
  },
  {
   "cell_type": "code",
   "execution_count": 7,
   "id": "056b9492",
   "metadata": {
    "slideshow": {
     "slide_type": "fragment"
    }
   },
   "outputs": [
    {
     "name": "stdout",
     "output_type": "stream",
     "text": [
      "6.62 s ± 394 ms per loop (mean ± std. dev. of 7 runs, 1 loop each)\n"
     ]
    }
   ],
   "source": [
    "%%timeit\n",
    "import random\n",
    "\n",
    "py_array_1 = [random.random() for _ in range(10_000_000)]\n",
    "py_array_2 = [random.random() for _ in range(10_000_000)]\n",
    "py_array_3 = [py_array_1[i] + py_array_2[i] for i in range(10_000_000)]"
   ]
  },
  {
   "cell_type": "markdown",
   "id": "81b9d037",
   "metadata": {
    "slideshow": {
     "slide_type": "slide"
    }
   },
   "source": [
    "#### NumPy Arrays can be multi-dimensional"
   ]
  },
  {
   "cell_type": "code",
   "execution_count": 8,
   "id": "551c0fe9",
   "metadata": {
    "slideshow": {
     "slide_type": "fragment"
    }
   },
   "outputs": [],
   "source": [
    "array_2D = np.array([\n",
    "    [1, 1, 1],\n",
    "    [1, 1, 1],\n",
    "    [1, 1, 1]\n",
    "])"
   ]
  },
  {
   "cell_type": "code",
   "execution_count": 9,
   "id": "725f82b4",
   "metadata": {
    "slideshow": {
     "slide_type": "fragment"
    }
   },
   "outputs": [
    {
     "data": {
      "text/plain": [
       "array([[2450.25, 2450.25, 2450.25],\n",
       "       [2450.25, 2450.25, 2450.25],\n",
       "       [2450.25, 2450.25, 2450.25]])"
      ]
     },
     "execution_count": 9,
     "metadata": {},
     "output_type": "execute_result"
    }
   ],
   "source": [
    "((array_2D * 99) / (array_2D * 2)) ** 2"
   ]
  },
  {
   "cell_type": "markdown",
   "id": "f4c64632",
   "metadata": {
    "slideshow": {
     "slide_type": "slide"
    }
   },
   "source": [
    "#### NumPy array inspection properties"
   ]
  },
  {
   "cell_type": "code",
   "execution_count": 10,
   "id": "654424a0",
   "metadata": {
    "slideshow": {
     "slide_type": "fragment"
    }
   },
   "outputs": [
    {
     "name": "stdout",
     "output_type": "stream",
     "text": [
      "(4,)\n",
      "int32\n",
      "1\n"
     ]
    }
   ],
   "source": [
    "np_ones = np.array([1, 1, 1, 1])\n",
    "print(np_ones.shape)\n",
    "print(np_ones.dtype)\n",
    "print(np_ones.ndim)"
   ]
  },
  {
   "cell_type": "code",
   "execution_count": 12,
   "id": "75cfdbe6",
   "metadata": {
    "slideshow": {
     "slide_type": "fragment"
    }
   },
   "outputs": [
    {
     "name": "stdout",
     "output_type": "stream",
     "text": [
      "(2, 4)\n",
      "float64\n",
      "2\n"
     ]
    }
   ],
   "source": [
    "np_ones = np.array([[1., 1., 1., 1.],\n",
    "                    [1., 1., 1., 1.]])\n",
    "print(np_ones.shape)\n",
    "print(np_ones.dtype)\n",
    "print(np_ones.ndim)"
   ]
  },
  {
   "cell_type": "markdown",
   "id": "5c2c7fb1",
   "metadata": {
    "slideshow": {
     "slide_type": "slide"
    }
   },
   "source": [
    "#### NumPy array aggregation functions"
   ]
  },
  {
   "cell_type": "code",
   "execution_count": 13,
   "id": "b45a7074",
   "metadata": {
    "slideshow": {
     "slide_type": "fragment"
    }
   },
   "outputs": [
    {
     "name": "stdout",
     "output_type": "stream",
     "text": [
      "45\n",
      "5.0\n",
      "1\n",
      "9\n",
      "2.581988897471611\n"
     ]
    }
   ],
   "source": [
    "example_array = np.array([1,2,3,4,5,6,7,8,9])\n",
    "print(example_array.sum())\n",
    "print(example_array.mean())\n",
    "print(example_array.min())\n",
    "print(example_array.max())\n",
    "print(example_array.std())"
   ]
  },
  {
   "cell_type": "markdown",
   "id": "cdcd7860",
   "metadata": {
    "slideshow": {
     "slide_type": "slide"
    }
   },
   "source": [
    "#### NumPy array generation functions"
   ]
  },
  {
   "cell_type": "code",
   "execution_count": 14,
   "id": "d9945432",
   "metadata": {
    "slideshow": {
     "slide_type": "fragment"
    }
   },
   "outputs": [
    {
     "data": {
      "text/plain": [
       "array([0, 1, 2, 3, 4, 5, 6, 7, 8, 9])"
      ]
     },
     "execution_count": 14,
     "metadata": {},
     "output_type": "execute_result"
    }
   ],
   "source": [
    "np.arange(10)"
   ]
  },
  {
   "cell_type": "code",
   "execution_count": 15,
   "id": "97512a22",
   "metadata": {
    "slideshow": {
     "slide_type": "fragment"
    }
   },
   "outputs": [
    {
     "data": {
      "text/plain": [
       "array([0.        , 0.11111111, 0.22222222, 0.33333333, 0.44444444,\n",
       "       0.55555556, 0.66666667, 0.77777778, 0.88888889, 1.        ])"
      ]
     },
     "execution_count": 15,
     "metadata": {},
     "output_type": "execute_result"
    }
   ],
   "source": [
    "np.linspace(start=0, stop=1, num=10)"
   ]
  },
  {
   "cell_type": "code",
   "execution_count": 16,
   "id": "fb4d2189",
   "metadata": {
    "slideshow": {
     "slide_type": "fragment"
    }
   },
   "outputs": [
    {
     "data": {
      "text/plain": [
       "array([[1., 1., 1., 1., 1.],\n",
       "       [1., 1., 1., 1., 1.],\n",
       "       [1., 1., 1., 1., 1.],\n",
       "       [1., 1., 1., 1., 1.],\n",
       "       [1., 1., 1., 1., 1.]])"
      ]
     },
     "execution_count": 16,
     "metadata": {},
     "output_type": "execute_result"
    }
   ],
   "source": [
    "np.ones(shape=(5,5))"
   ]
  },
  {
   "cell_type": "code",
   "execution_count": 17,
   "id": "d2020439",
   "metadata": {
    "slideshow": {
     "slide_type": "fragment"
    }
   },
   "outputs": [
    {
     "data": {
      "text/plain": [
       "array([[0., 0., 0.],\n",
       "       [0., 0., 0.],\n",
       "       [0., 0., 0.]])"
      ]
     },
     "execution_count": 17,
     "metadata": {},
     "output_type": "execute_result"
    }
   ],
   "source": [
    "np.zeros((3,3))"
   ]
  },
  {
   "cell_type": "markdown",
   "id": "ace1d575",
   "metadata": {
    "slideshow": {
     "slide_type": "slide"
    }
   },
   "source": [
    "#### NumPy random array generation functions"
   ]
  },
  {
   "cell_type": "code",
   "execution_count": 18,
   "id": "ac712c4d",
   "metadata": {
    "slideshow": {
     "slide_type": "fragment"
    }
   },
   "outputs": [
    {
     "data": {
      "text/plain": [
       "array([2, 7, 5, 9, 5, 7, 8, 3, 4, 0])"
      ]
     },
     "execution_count": 18,
     "metadata": {},
     "output_type": "execute_result"
    }
   ],
   "source": [
    "np.random.randint(low=0, high=10, size=10)"
   ]
  },
  {
   "cell_type": "code",
   "execution_count": 19,
   "id": "feea88d3",
   "metadata": {
    "slideshow": {
     "slide_type": "fragment"
    }
   },
   "outputs": [
    {
     "data": {
      "text/plain": [
       "<AxesSubplot:ylabel='Frequency'>"
      ]
     },
     "execution_count": 19,
     "metadata": {},
     "output_type": "execute_result"
    },
    {
     "data": {
      "image/png": "[encoded data removed]",
      "text/plain": [
       "<Figure size 432x288 with 1 Axes>"
      ]
     },
     "metadata": {
      "needs_background": "light"
     },
     "output_type": "display_data"
    }
   ],
   "source": [
    "import pandas as pd\n",
    "normal_dist = np.random.normal(size=10_000)\n",
    "df = pd.DataFrame(normal_dist)\n",
    "df.plot(kind=\"hist\", bins=100)"
   ]
  },
  {
   "cell_type": "markdown",
   "id": "fb572d0c",
   "metadata": {
    "slideshow": {
     "slide_type": "slide"
    }
   },
   "source": [
    "#### NumPy element wise operations"
   ]
  },
  {
   "cell_type": "code",
   "execution_count": 20,
   "id": "81ada509",
   "metadata": {
    "slideshow": {
     "slide_type": "fragment"
    }
   },
   "outputs": [
    {
     "data": {
      "text/plain": [
       "<AxesSubplot:>"
      ]
     },
     "execution_count": 20,
     "metadata": {},
     "output_type": "execute_result"
    },
    {
     "data": {
      "image/png": "[encoded data removed]",
      "text/plain": [
       "<Figure size 432x288 with 1 Axes>"
      ]
     },
     "metadata": {
      "needs_background": "light"
     },
     "output_type": "display_data"
    }
   ],
   "source": [
    "sin_array = np.sin(np.arange(start=0, stop=6.5, step=.1))\n",
    "df = pd.DataFrame(sin_array)\n",
    "df.plot()"
   ]
  },
  {
   "cell_type": "markdown",
   "id": "fb371454",
   "metadata": {
    "slideshow": {
     "slide_type": "slide"
    }
   },
   "source": [
    "#### Indexing"
   ]
  },
  {
   "cell_type": "code",
   "execution_count": 22,
   "id": "55a5b354",
   "metadata": {
    "slideshow": {
     "slide_type": "fragment"
    }
   },
   "outputs": [
    {
     "data": {
      "text/plain": [
       "array([5, 6, 7, 8])"
      ]
     },
     "execution_count": 22,
     "metadata": {},
     "output_type": "execute_result"
    }
   ],
   "source": [
    "# 1-dimensional array example\n",
    "array = np.arange(9)\n",
    "\n",
    "# Regular Indexing\n",
    "array[0]\n",
    "\n",
    "# Fancy Indexing\n",
    "array[[0,4,-1]]\n",
    "\n",
    "#Boolean Masking\n",
    "boolean_mask = array > 4\n",
    "array[boolean_mask]"
   ]
  },
  {
   "cell_type": "code",
   "execution_count": 23,
   "id": "8de0ac12",
   "metadata": {
    "slideshow": {
     "slide_type": "slide"
    }
   },
   "outputs": [
    {
     "name": "stdout",
     "output_type": "stream",
     "text": [
      "[[0 1 2]\n",
      " [3 4 5]\n",
      " [6 7 8]]\n"
     ]
    },
    {
     "data": {
      "text/plain": [
       "array([3, 4, 5, 6, 7, 8])"
      ]
     },
     "execution_count": 23,
     "metadata": {},
     "output_type": "execute_result"
    }
   ],
   "source": [
    "# Multi-dimensional array example\n",
    "array_2D = np.arange(9).reshape((3,3))\n",
    "print(array_2D)\n",
    "\n",
    "# Regular Indexing\n",
    "array_2D[0][0]\n",
    "array_2D[0,0]\n",
    "\n",
    "# Fancy Indexing\n",
    "array_2D[[1],[1]]\n",
    "\n",
    "# Boolean Masking\n",
    "boolean_mask_a = array_2D > 2\n",
    "boolean_mask_b = (array_2D > 2) & (array_2D < 6)\n",
    "array_2D[boolean_mask_a]"
   ]
  },
  {
   "cell_type": "markdown",
   "id": "db400ac7",
   "metadata": {
    "slideshow": {
     "slide_type": "slide"
    }
   },
   "source": [
    "<center><h3>Pandas Fundamentals</h3></center>\n",
    "<br/>\n",
    "<center><img src=\"./images/panda_spreadsheet_b.jpg\" width=\"600\" /></center>"
   ]
  },
  {
   "cell_type": "markdown",
   "id": "fa559967",
   "metadata": {
    "slideshow": {
     "slide_type": "slide"
    }
   },
   "source": [
    "* Pandas is great for medium sized datasets, and is limited by your computers memory (RAM)\n",
    "* The Pandas API, ie the methods and properties used in Pandas, is copied by other frameworks meant to deal with large datasets that are more suited for processing in the cloud"
   ]
  },
  {
   "cell_type": "code",
   "execution_count": 24,
   "id": "99f56b68",
   "metadata": {
    "slideshow": {
     "slide_type": "slide"
    }
   },
   "outputs": [],
   "source": [
    "import pandas as pd"
   ]
  },
  {
   "cell_type": "code",
   "execution_count": 25,
   "id": "135e1a8c",
   "metadata": {
    "slideshow": {
     "slide_type": "slide"
    }
   },
   "outputs": [],
   "source": [
    "df = pd.DataFrame(\n",
    "    {\n",
    "        \"city\": [\"Toronto\", \"Hamilton\", \"Markham\", \"Montreal\", \"Quebec City\"],\n",
    "        \"population\": [2_930_000, 579_200, 342_970, 1_780_000, 542_298],\n",
    "        \"longitude\": [-79.3370, -79.3832, -79.8711, -73.5674, -71.2075]\n",
    "    }\n",
    ")"
   ]
  },
  {
   "cell_type": "code",
   "execution_count": 26,
   "id": "dcdfa922",
   "metadata": {
    "slideshow": {
     "slide_type": "slide"
    }
   },
   "outputs": [
    {
     "data": {
      "text/html": [
       "<div>\n",
       "<style scoped>\n",
       "    .dataframe tbody tr th:only-of-type {\n",
       "        vertical-align: middle;\n",
       "    }\n",
       "\n",
       "    .dataframe tbody tr th {\n",
       "        vertical-align: top;\n",
       "    }\n",
       "\n",
       "    .dataframe thead th {\n",
       "        text-align: right;\n",
       "    }\n",
       "</style>\n",
       "<table border=\"1\" class=\"dataframe\">\n",
       "  <thead>\n",
       "    <tr style=\"text-align: right;\">\n",
       "      <th></th>\n",
       "      <th>city</th>\n",
       "      <th>population</th>\n",
       "      <th>longitude</th>\n",
       "    </tr>\n",
       "  </thead>\n",
       "  <tbody>\n",
       "    <tr>\n",
       "      <th>0</th>\n",
       "      <td>Toronto</td>\n",
       "      <td>2930000</td>\n",
       "      <td>-79.3370</td>\n",
       "    </tr>\n",
       "    <tr>\n",
       "      <th>1</th>\n",
       "      <td>Hamilton</td>\n",
       "      <td>579200</td>\n",
       "      <td>-79.3832</td>\n",
       "    </tr>\n",
       "    <tr>\n",
       "      <th>2</th>\n",
       "      <td>Markham</td>\n",
       "      <td>342970</td>\n",
       "      <td>-79.8711</td>\n",
       "    </tr>\n",
       "    <tr>\n",
       "      <th>3</th>\n",
       "      <td>Montreal</td>\n",
       "      <td>1780000</td>\n",
       "      <td>-73.5674</td>\n",
       "    </tr>\n",
       "    <tr>\n",
       "      <th>4</th>\n",
       "      <td>Quebec City</td>\n",
       "      <td>542298</td>\n",
       "      <td>-71.2075</td>\n",
       "    </tr>\n",
       "  </tbody>\n",
       "</table>\n",
       "</div>"
      ],
      "text/plain": [
       "          city  population  longitude\n",
       "0      Toronto     2930000   -79.3370\n",
       "1     Hamilton      579200   -79.3832\n",
       "2      Markham      342970   -79.8711\n",
       "3     Montreal     1780000   -73.5674\n",
       "4  Quebec City      542298   -71.2075"
      ]
     },
     "execution_count": 26,
     "metadata": {},
     "output_type": "execute_result"
    }
   ],
   "source": [
    "df"
   ]
  },
  {
   "cell_type": "code",
   "execution_count": 29,
   "id": "a5e62b8e",
   "metadata": {
    "slideshow": {
     "slide_type": "slide"
    }
   },
   "outputs": [
    {
     "data": {
      "text/plain": [
       "pandas.core.series.Series"
      ]
     },
     "execution_count": 29,
     "metadata": {},
     "output_type": "execute_result"
    }
   ],
   "source": [
    "# DataFrames are composed of Pandas Series\n",
    "\n",
    "df['city']\n",
    "df['population']\n",
    "type(df['longitude'])"
   ]
  },
  {
   "cell_type": "code",
   "execution_count": 30,
   "id": "be3401e9",
   "metadata": {
    "slideshow": {
     "slide_type": "slide"
    }
   },
   "outputs": [],
   "source": [
    "# To make a new column, simply assign a new name with a list of values!\n",
    "\n",
    "df['half_population'] = df['population'] // 2"
   ]
  },
  {
   "cell_type": "code",
   "execution_count": 31,
   "id": "72f7baf0",
   "metadata": {
    "slideshow": {
     "slide_type": "fragment"
    }
   },
   "outputs": [
    {
     "data": {
      "text/html": [
       "<div>\n",
       "<style scoped>\n",
       "    .dataframe tbody tr th:only-of-type {\n",
       "        vertical-align: middle;\n",
       "    }\n",
       "\n",
       "    .dataframe tbody tr th {\n",
       "        vertical-align: top;\n",
       "    }\n",
       "\n",
       "    .dataframe thead th {\n",
       "        text-align: right;\n",
       "    }\n",
       "</style>\n",
       "<table border=\"1\" class=\"dataframe\">\n",
       "  <thead>\n",
       "    <tr style=\"text-align: right;\">\n",
       "      <th></th>\n",
       "      <th>city</th>\n",
       "      <th>population</th>\n",
       "      <th>longitude</th>\n",
       "      <th>half_population</th>\n",
       "    </tr>\n",
       "  </thead>\n",
       "  <tbody>\n",
       "    <tr>\n",
       "      <th>0</th>\n",
       "      <td>Toronto</td>\n",
       "      <td>2930000</td>\n",
       "      <td>-79.3370</td>\n",
       "      <td>1465000</td>\n",
       "    </tr>\n",
       "    <tr>\n",
       "      <th>1</th>\n",
       "      <td>Hamilton</td>\n",
       "      <td>579200</td>\n",
       "      <td>-79.3832</td>\n",
       "      <td>289600</td>\n",
       "    </tr>\n",
       "    <tr>\n",
       "      <th>2</th>\n",
       "      <td>Markham</td>\n",
       "      <td>342970</td>\n",
       "      <td>-79.8711</td>\n",
       "      <td>171485</td>\n",
       "    </tr>\n",
       "    <tr>\n",
       "      <th>3</th>\n",
       "      <td>Montreal</td>\n",
       "      <td>1780000</td>\n",
       "      <td>-73.5674</td>\n",
       "      <td>890000</td>\n",
       "    </tr>\n",
       "    <tr>\n",
       "      <th>4</th>\n",
       "      <td>Quebec City</td>\n",
       "      <td>542298</td>\n",
       "      <td>-71.2075</td>\n",
       "      <td>271149</td>\n",
       "    </tr>\n",
       "  </tbody>\n",
       "</table>\n",
       "</div>"
      ],
      "text/plain": [
       "          city  population  longitude  half_population\n",
       "0      Toronto     2930000   -79.3370          1465000\n",
       "1     Hamilton      579200   -79.3832           289600\n",
       "2      Markham      342970   -79.8711           171485\n",
       "3     Montreal     1780000   -73.5674           890000\n",
       "4  Quebec City      542298   -71.2075           271149"
      ]
     },
     "execution_count": 31,
     "metadata": {},
     "output_type": "execute_result"
    }
   ],
   "source": [
    "df.head()"
   ]
  },
  {
   "cell_type": "code",
   "execution_count": 32,
   "id": "4757a3da",
   "metadata": {
    "slideshow": {
     "slide_type": "slide"
    }
   },
   "outputs": [],
   "source": [
    "df['city_abbreviation'] = df['city'].str.upper().str[:3]"
   ]
  },
  {
   "cell_type": "code",
   "execution_count": 33,
   "id": "366e3fe6",
   "metadata": {
    "slideshow": {
     "slide_type": "fragment"
    }
   },
   "outputs": [
    {
     "data": {
      "text/html": [
       "<div>\n",
       "<style scoped>\n",
       "    .dataframe tbody tr th:only-of-type {\n",
       "        vertical-align: middle;\n",
       "    }\n",
       "\n",
       "    .dataframe tbody tr th {\n",
       "        vertical-align: top;\n",
       "    }\n",
       "\n",
       "    .dataframe thead th {\n",
       "        text-align: right;\n",
       "    }\n",
       "</style>\n",
       "<table border=\"1\" class=\"dataframe\">\n",
       "  <thead>\n",
       "    <tr style=\"text-align: right;\">\n",
       "      <th></th>\n",
       "      <th>city</th>\n",
       "      <th>population</th>\n",
       "      <th>longitude</th>\n",
       "      <th>half_population</th>\n",
       "      <th>city_abbreviation</th>\n",
       "    </tr>\n",
       "  </thead>\n",
       "  <tbody>\n",
       "    <tr>\n",
       "      <th>0</th>\n",
       "      <td>Toronto</td>\n",
       "      <td>2930000</td>\n",
       "      <td>-79.3370</td>\n",
       "      <td>1465000</td>\n",
       "      <td>TOR</td>\n",
       "    </tr>\n",
       "    <tr>\n",
       "      <th>1</th>\n",
       "      <td>Hamilton</td>\n",
       "      <td>579200</td>\n",
       "      <td>-79.3832</td>\n",
       "      <td>289600</td>\n",
       "      <td>HAM</td>\n",
       "    </tr>\n",
       "    <tr>\n",
       "      <th>2</th>\n",
       "      <td>Markham</td>\n",
       "      <td>342970</td>\n",
       "      <td>-79.8711</td>\n",
       "      <td>171485</td>\n",
       "      <td>MAR</td>\n",
       "    </tr>\n",
       "    <tr>\n",
       "      <th>3</th>\n",
       "      <td>Montreal</td>\n",
       "      <td>1780000</td>\n",
       "      <td>-73.5674</td>\n",
       "      <td>890000</td>\n",
       "      <td>MON</td>\n",
       "    </tr>\n",
       "    <tr>\n",
       "      <th>4</th>\n",
       "      <td>Quebec City</td>\n",
       "      <td>542298</td>\n",
       "      <td>-71.2075</td>\n",
       "      <td>271149</td>\n",
       "      <td>QUE</td>\n",
       "    </tr>\n",
       "  </tbody>\n",
       "</table>\n",
       "</div>"
      ],
      "text/plain": [
       "          city  population  longitude  half_population city_abbreviation\n",
       "0      Toronto     2930000   -79.3370          1465000               TOR\n",
       "1     Hamilton      579200   -79.3832           289600               HAM\n",
       "2      Markham      342970   -79.8711           171485               MAR\n",
       "3     Montreal     1780000   -73.5674           890000               MON\n",
       "4  Quebec City      542298   -71.2075           271149               QUE"
      ]
     },
     "execution_count": 33,
     "metadata": {},
     "output_type": "execute_result"
    }
   ],
   "source": [
    "df.head()"
   ]
  },
  {
   "cell_type": "code",
   "execution_count": 34,
   "id": "0fa8b311",
   "metadata": {
    "slideshow": {
     "slide_type": "slide"
    }
   },
   "outputs": [
    {
     "data": {
      "text/html": [
       "<div>\n",
       "<style scoped>\n",
       "    .dataframe tbody tr th:only-of-type {\n",
       "        vertical-align: middle;\n",
       "    }\n",
       "\n",
       "    .dataframe tbody tr th {\n",
       "        vertical-align: top;\n",
       "    }\n",
       "\n",
       "    .dataframe thead th {\n",
       "        text-align: right;\n",
       "    }\n",
       "</style>\n",
       "<table border=\"1\" class=\"dataframe\">\n",
       "  <thead>\n",
       "    <tr style=\"text-align: right;\">\n",
       "      <th></th>\n",
       "      <th>city</th>\n",
       "      <th>population</th>\n",
       "      <th>longitude</th>\n",
       "    </tr>\n",
       "  </thead>\n",
       "  <tbody>\n",
       "    <tr>\n",
       "      <th>0</th>\n",
       "      <td>Toronto</td>\n",
       "      <td>2930000</td>\n",
       "      <td>-79.3370</td>\n",
       "    </tr>\n",
       "    <tr>\n",
       "      <th>1</th>\n",
       "      <td>Hamilton</td>\n",
       "      <td>579200</td>\n",
       "      <td>-79.3832</td>\n",
       "    </tr>\n",
       "    <tr>\n",
       "      <th>2</th>\n",
       "      <td>Markham</td>\n",
       "      <td>342970</td>\n",
       "      <td>-79.8711</td>\n",
       "    </tr>\n",
       "    <tr>\n",
       "      <th>3</th>\n",
       "      <td>Montreal</td>\n",
       "      <td>1780000</td>\n",
       "      <td>-73.5674</td>\n",
       "    </tr>\n",
       "    <tr>\n",
       "      <th>4</th>\n",
       "      <td>Quebec City</td>\n",
       "      <td>542298</td>\n",
       "      <td>-71.2075</td>\n",
       "    </tr>\n",
       "  </tbody>\n",
       "</table>\n",
       "</div>"
      ],
      "text/plain": [
       "          city  population  longitude\n",
       "0      Toronto     2930000   -79.3370\n",
       "1     Hamilton      579200   -79.3832\n",
       "2      Markham      342970   -79.8711\n",
       "3     Montreal     1780000   -73.5674\n",
       "4  Quebec City      542298   -71.2075"
      ]
     },
     "execution_count": 34,
     "metadata": {},
     "output_type": "execute_result"
    }
   ],
   "source": [
    "original_df = df[['city','population','longitude']]\n",
    "original_df.head()"
   ]
  },
  {
   "cell_type": "code",
   "execution_count": 37,
   "id": "8b5e5055",
   "metadata": {
    "slideshow": {
     "slide_type": "slide"
    }
   },
   "outputs": [],
   "source": [
    "df.loc[4,'population'] = 123"
   ]
  },
  {
   "cell_type": "code",
   "execution_count": 38,
   "id": "77bd3d24",
   "metadata": {
    "slideshow": {
     "slide_type": "fragment"
    }
   },
   "outputs": [
    {
     "data": {
      "text/html": [
       "<div>\n",
       "<style scoped>\n",
       "    .dataframe tbody tr th:only-of-type {\n",
       "        vertical-align: middle;\n",
       "    }\n",
       "\n",
       "    .dataframe tbody tr th {\n",
       "        vertical-align: top;\n",
       "    }\n",
       "\n",
       "    .dataframe thead th {\n",
       "        text-align: right;\n",
       "    }\n",
       "</style>\n",
       "<table border=\"1\" class=\"dataframe\">\n",
       "  <thead>\n",
       "    <tr style=\"text-align: right;\">\n",
       "      <th></th>\n",
       "      <th>city</th>\n",
       "      <th>population</th>\n",
       "      <th>longitude</th>\n",
       "      <th>half_population</th>\n",
       "      <th>city_abbreviation</th>\n",
       "    </tr>\n",
       "  </thead>\n",
       "  <tbody>\n",
       "    <tr>\n",
       "      <th>0</th>\n",
       "      <td>Toronto</td>\n",
       "      <td>123</td>\n",
       "      <td>-79.3370</td>\n",
       "      <td>1465000</td>\n",
       "      <td>TOR</td>\n",
       "    </tr>\n",
       "    <tr>\n",
       "      <th>1</th>\n",
       "      <td>Hamilton</td>\n",
       "      <td>579200</td>\n",
       "      <td>-79.3832</td>\n",
       "      <td>289600</td>\n",
       "      <td>HAM</td>\n",
       "    </tr>\n",
       "    <tr>\n",
       "      <th>2</th>\n",
       "      <td>Markham</td>\n",
       "      <td>342970</td>\n",
       "      <td>-79.8711</td>\n",
       "      <td>171485</td>\n",
       "      <td>MAR</td>\n",
       "    </tr>\n",
       "    <tr>\n",
       "      <th>3</th>\n",
       "      <td>Montreal</td>\n",
       "      <td>1780000</td>\n",
       "      <td>-73.5674</td>\n",
       "      <td>890000</td>\n",
       "      <td>MON</td>\n",
       "    </tr>\n",
       "    <tr>\n",
       "      <th>4</th>\n",
       "      <td>Quebec City</td>\n",
       "      <td>123</td>\n",
       "      <td>-71.2075</td>\n",
       "      <td>271149</td>\n",
       "      <td>QUE</td>\n",
       "    </tr>\n",
       "  </tbody>\n",
       "</table>\n",
       "</div>"
      ],
      "text/plain": [
       "          city  population  longitude  half_population city_abbreviation\n",
       "0      Toronto         123   -79.3370          1465000               TOR\n",
       "1     Hamilton      579200   -79.3832           289600               HAM\n",
       "2      Markham      342970   -79.8711           171485               MAR\n",
       "3     Montreal     1780000   -73.5674           890000               MON\n",
       "4  Quebec City         123   -71.2075           271149               QUE"
      ]
     },
     "execution_count": 38,
     "metadata": {},
     "output_type": "execute_result"
    }
   ],
   "source": [
    "df.head()"
   ]
  },
  {
   "cell_type": "code",
   "execution_count": 39,
   "id": "141de89a",
   "metadata": {
    "slideshow": {
     "slide_type": "slide"
    }
   },
   "outputs": [],
   "source": [
    "df.loc[:,'population'] = 123"
   ]
  },
  {
   "cell_type": "code",
   "execution_count": 40,
   "id": "7453d28a",
   "metadata": {
    "slideshow": {
     "slide_type": "fragment"
    }
   },
   "outputs": [
    {
     "data": {
      "text/html": [
       "<div>\n",
       "<style scoped>\n",
       "    .dataframe tbody tr th:only-of-type {\n",
       "        vertical-align: middle;\n",
       "    }\n",
       "\n",
       "    .dataframe tbody tr th {\n",
       "        vertical-align: top;\n",
       "    }\n",
       "\n",
       "    .dataframe thead th {\n",
       "        text-align: right;\n",
       "    }\n",
       "</style>\n",
       "<table border=\"1\" class=\"dataframe\">\n",
       "  <thead>\n",
       "    <tr style=\"text-align: right;\">\n",
       "      <th></th>\n",
       "      <th>city</th>\n",
       "      <th>population</th>\n",
       "      <th>longitude</th>\n",
       "      <th>half_population</th>\n",
       "      <th>city_abbreviation</th>\n",
       "    </tr>\n",
       "  </thead>\n",
       "  <tbody>\n",
       "    <tr>\n",
       "      <th>0</th>\n",
       "      <td>Toronto</td>\n",
       "      <td>123</td>\n",
       "      <td>-79.3370</td>\n",
       "      <td>1465000</td>\n",
       "      <td>TOR</td>\n",
       "    </tr>\n",
       "    <tr>\n",
       "      <th>1</th>\n",
       "      <td>Hamilton</td>\n",
       "      <td>123</td>\n",
       "      <td>-79.3832</td>\n",
       "      <td>289600</td>\n",
       "      <td>HAM</td>\n",
       "    </tr>\n",
       "    <tr>\n",
       "      <th>2</th>\n",
       "      <td>Markham</td>\n",
       "      <td>123</td>\n",
       "      <td>-79.8711</td>\n",
       "      <td>171485</td>\n",
       "      <td>MAR</td>\n",
       "    </tr>\n",
       "    <tr>\n",
       "      <th>3</th>\n",
       "      <td>Montreal</td>\n",
       "      <td>123</td>\n",
       "      <td>-73.5674</td>\n",
       "      <td>890000</td>\n",
       "      <td>MON</td>\n",
       "    </tr>\n",
       "    <tr>\n",
       "      <th>4</th>\n",
       "      <td>Quebec City</td>\n",
       "      <td>123</td>\n",
       "      <td>-71.2075</td>\n",
       "      <td>271149</td>\n",
       "      <td>QUE</td>\n",
       "    </tr>\n",
       "  </tbody>\n",
       "</table>\n",
       "</div>"
      ],
      "text/plain": [
       "          city  population  longitude  half_population city_abbreviation\n",
       "0      Toronto         123   -79.3370          1465000               TOR\n",
       "1     Hamilton         123   -79.3832           289600               HAM\n",
       "2      Markham         123   -79.8711           171485               MAR\n",
       "3     Montreal         123   -73.5674           890000               MON\n",
       "4  Quebec City         123   -71.2075           271149               QUE"
      ]
     },
     "execution_count": 40,
     "metadata": {},
     "output_type": "execute_result"
    }
   ],
   "source": [
    "df.head()"
   ]
  },
  {
   "cell_type": "code",
   "execution_count": 41,
   "id": "c36a385e",
   "metadata": {
    "slideshow": {
     "slide_type": "slide"
    }
   },
   "outputs": [],
   "source": [
    "prov_look_up_dict = {\n",
    "    'Toronto': 'ON',\n",
    "    'Hamilton': 'ON',\n",
    "    'Markham': 'ON',\n",
    "    'Montreal': 'QC',\n",
    "    'Quebec City': 'QC'\n",
    "}\n",
    "\n",
    "df['province'] = df['city'].apply(lambda city: prov_look_up_dict[city])\n",
    "\n",
    "# def get_province(city: str):\n",
    "#     province = prov_look_up_dict[city]\n",
    "#     return province\n",
    "\n",
    "# df['province'] = df['city'].apply(get_province)"
   ]
  },
  {
   "cell_type": "code",
   "execution_count": 42,
   "id": "a131a96c",
   "metadata": {
    "slideshow": {
     "slide_type": "fragment"
    }
   },
   "outputs": [
    {
     "data": {
      "text/html": [
       "<div>\n",
       "<style scoped>\n",
       "    .dataframe tbody tr th:only-of-type {\n",
       "        vertical-align: middle;\n",
       "    }\n",
       "\n",
       "    .dataframe tbody tr th {\n",
       "        vertical-align: top;\n",
       "    }\n",
       "\n",
       "    .dataframe thead th {\n",
       "        text-align: right;\n",
       "    }\n",
       "</style>\n",
       "<table border=\"1\" class=\"dataframe\">\n",
       "  <thead>\n",
       "    <tr style=\"text-align: right;\">\n",
       "      <th></th>\n",
       "      <th>city</th>\n",
       "      <th>population</th>\n",
       "      <th>longitude</th>\n",
       "      <th>half_population</th>\n",
       "      <th>city_abbreviation</th>\n",
       "      <th>province</th>\n",
       "    </tr>\n",
       "  </thead>\n",
       "  <tbody>\n",
       "    <tr>\n",
       "      <th>0</th>\n",
       "      <td>Toronto</td>\n",
       "      <td>123</td>\n",
       "      <td>-79.3370</td>\n",
       "      <td>1465000</td>\n",
       "      <td>TOR</td>\n",
       "      <td>ON</td>\n",
       "    </tr>\n",
       "    <tr>\n",
       "      <th>1</th>\n",
       "      <td>Hamilton</td>\n",
       "      <td>123</td>\n",
       "      <td>-79.3832</td>\n",
       "      <td>289600</td>\n",
       "      <td>HAM</td>\n",
       "      <td>ON</td>\n",
       "    </tr>\n",
       "    <tr>\n",
       "      <th>2</th>\n",
       "      <td>Markham</td>\n",
       "      <td>123</td>\n",
       "      <td>-79.8711</td>\n",
       "      <td>171485</td>\n",
       "      <td>MAR</td>\n",
       "      <td>ON</td>\n",
       "    </tr>\n",
       "    <tr>\n",
       "      <th>3</th>\n",
       "      <td>Montreal</td>\n",
       "      <td>123</td>\n",
       "      <td>-73.5674</td>\n",
       "      <td>890000</td>\n",
       "      <td>MON</td>\n",
       "      <td>QC</td>\n",
       "    </tr>\n",
       "    <tr>\n",
       "      <th>4</th>\n",
       "      <td>Quebec City</td>\n",
       "      <td>123</td>\n",
       "      <td>-71.2075</td>\n",
       "      <td>271149</td>\n",
       "      <td>QUE</td>\n",
       "      <td>QC</td>\n",
       "    </tr>\n",
       "  </tbody>\n",
       "</table>\n",
       "</div>"
      ],
      "text/plain": [
       "          city  population  longitude  half_population city_abbreviation  \\\n",
       "0      Toronto         123   -79.3370          1465000               TOR   \n",
       "1     Hamilton         123   -79.3832           289600               HAM   \n",
       "2      Markham         123   -79.8711           171485               MAR   \n",
       "3     Montreal         123   -73.5674           890000               MON   \n",
       "4  Quebec City         123   -71.2075           271149               QUE   \n",
       "\n",
       "  province  \n",
       "0       ON  \n",
       "1       ON  \n",
       "2       ON  \n",
       "3       QC  \n",
       "4       QC  "
      ]
     },
     "execution_count": 42,
     "metadata": {},
     "output_type": "execute_result"
    }
   ],
   "source": [
    "df.head()"
   ]
  },
  {
   "cell_type": "code",
   "execution_count": null,
   "id": "2c8e028a",
   "metadata": {
    "slideshow": {
     "slide_type": "slide"
    }
   },
   "outputs": [],
   "source": [
    "df.apply(lambda row: print(str(row) + \"\\n\"), axis=1)\n",
    "# df.apply(lambda col: print(str(col) + \"\\n\"), axis=0)"
   ]
  },
  {
   "cell_type": "code",
   "execution_count": 44,
   "id": "dc8f4d41",
   "metadata": {
    "slideshow": {
     "slide_type": "slide"
    }
   },
   "outputs": [
    {
     "data": {
      "text/plain": [
       "0    False\n",
       "1    False\n",
       "2    False\n",
       "3     True\n",
       "4     True\n",
       "Name: province, dtype: bool"
      ]
     },
     "execution_count": 44,
     "metadata": {},
     "output_type": "execute_result"
    }
   ],
   "source": [
    "df['province'] == 'QC'\n",
    "# df[df['province'] == 'QC']\n",
    "\n",
    "# df['longitude'] < -74.0\n",
    "# df[df['longitude'] < -74.0]"
   ]
  },
  {
   "cell_type": "markdown",
   "id": "a7294b0d",
   "metadata": {
    "slideshow": {
     "slide_type": "slide"
    }
   },
   "source": [
    "<center><h3>Pandas UFO Dataset Example</h3></center>\n",
    "<br/>\n",
    "<center><img src=\"./images/panda_ufo.jpg\" width=\"600\" /></center>"
   ]
  }
 ],
 "metadata": {
  "celltoolbar": "Slideshow",
  "kernelspec": {
   "display_name": "Python 3 (ipykernel)",
   "language": "python",
   "name": "python3"
  },
  "language_info": {
   "codemirror_mode": {
    "name": "ipython",
    "version": 3
   },
   "file_extension": ".py",
   "mimetype": "text/x-python",
   "name": "python",
   "nbconvert_exporter": "python",
   "pygments_lexer": "ipython3",
   "version": "3.8.5"
  }
 },
 "nbformat": 4,
 "nbformat_minor": 5
}
