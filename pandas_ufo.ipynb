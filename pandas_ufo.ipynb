{
 "cells": [
  {
   "cell_type": "code",
   "execution_count": null,
   "id": "a1ca927d",
   "metadata": {},
   "outputs": [],
   "source": [
    "import pandas as pd\n",
    "from datetime import datetime\n",
    "import random\n",
    "import numpy as np"
   ]
  },
  {
   "cell_type": "code",
   "execution_count": null,
   "id": "2e90518f",
   "metadata": {},
   "outputs": [],
   "source": [
    "# Can also be a web url, or a share drive path\n",
    "# Many other read options exists including one for SAS datasets\n",
    "\n",
    "df = pd.read_csv(\"scrubbed.csv\")"
   ]
  },
  {
   "cell_type": "code",
   "execution_count": null,
   "id": "92d1c686",
   "metadata": {},
   "outputs": [],
   "source": [
    "# These allow you to get a quick peak into the dataset\n",
    "\n",
    "df.head()\n",
    "# df.head(10)\n",
    "# df.tail()"
   ]
  },
  {
   "cell_type": "code",
   "execution_count": null,
   "id": "e46964ac",
   "metadata": {},
   "outputs": [],
   "source": [
    "df.info()"
   ]
  },
  {
   "cell_type": "code",
   "execution_count": null,
   "id": "77b55805",
   "metadata": {},
   "outputs": [],
   "source": [
    "df.describe()"
   ]
  },
  {
   "cell_type": "code",
   "execution_count": null,
   "id": "2fabf792",
   "metadata": {},
   "outputs": [],
   "source": [
    "df['country'].unique()"
   ]
  },
  {
   "cell_type": "code",
   "execution_count": null,
   "id": "23d1cd85",
   "metadata": {},
   "outputs": [],
   "source": [
    "df.dropna(inplace=True)"
   ]
  },
  {
   "cell_type": "code",
   "execution_count": null,
   "id": "dd89cf81",
   "metadata": {},
   "outputs": [],
   "source": [
    "df.head()"
   ]
  },
  {
   "cell_type": "code",
   "execution_count": null,
   "id": "bf0f3c96",
   "metadata": {},
   "outputs": [],
   "source": [
    "df.reset_index(inplace=True, drop=True)"
   ]
  },
  {
   "cell_type": "code",
   "execution_count": null,
   "id": "1b9042e0",
   "metadata": {},
   "outputs": [],
   "source": [
    "df.head()"
   ]
  },
  {
   "cell_type": "code",
   "execution_count": null,
   "id": "7394656d",
   "metadata": {},
   "outputs": [],
   "source": [
    "df.drop(columns=['duration (hours/min)', 'comments', 'date posted'], inplace=True)"
   ]
  },
  {
   "cell_type": "code",
   "execution_count": null,
   "id": "18b0864a",
   "metadata": {},
   "outputs": [],
   "source": [
    "df.head()"
   ]
  },
  {
   "cell_type": "code",
   "execution_count": null,
   "id": "b7b8a9d2",
   "metadata": {},
   "outputs": [],
   "source": [
    "# If you want to save the file with the objects in tact, you should use the pickle format\n",
    "\n",
    "date_format = '%m/%d/%Y %H:%M'\n",
    "df['date_object'] = df['datetime'].apply(lambda dt: datetime.strptime(dt, date_format))"
   ]
  },
  {
   "cell_type": "code",
   "execution_count": null,
   "id": "679cefc9",
   "metadata": {},
   "outputs": [],
   "source": [
    "df['datetime'] = df['datetime'].str.replace(\"24:00\", \"00:00\")"
   ]
  },
  {
   "cell_type": "code",
   "execution_count": null,
   "id": "2bb25cb4",
   "metadata": {},
   "outputs": [],
   "source": [
    "df.head()"
   ]
  },
  {
   "cell_type": "code",
   "execution_count": null,
   "id": "52478e6c",
   "metadata": {},
   "outputs": [],
   "source": [
    "df['hour_sighted'] = df['date_object'].apply(lambda d: d.hour)\n",
    "df['year_sighted'] = df['date_object'].apply(lambda d: d.year)\n",
    "df['month_sighted'] = df['date_object'].apply(lambda d: d.month)\n",
    "df['date'] = df['date_object'].apply(lambda d: d.date())"
   ]
  },
  {
   "cell_type": "code",
   "execution_count": null,
   "id": "92c61a75",
   "metadata": {},
   "outputs": [],
   "source": [
    "df.head()"
   ]
  },
  {
   "cell_type": "code",
   "execution_count": null,
   "id": "9bf1602e",
   "metadata": {},
   "outputs": [],
   "source": [
    "df['hour_sighted'].plot(kind='hist', bins=24, figsize=(20,10))\n",
    "# df['year_sighted'].plot(kind='hist', bins=100, figsize=(20,10))\n",
    "# df['month_sighted'].plot(kind='hist', bins=12, figsize=(20,10))"
   ]
  },
  {
   "cell_type": "code",
   "execution_count": null,
   "id": "97013c07",
   "metadata": {},
   "outputs": [],
   "source": [
    "df[\"city\"].value_counts().head(25).plot(kind=\"pie\", figsize=(10,10))"
   ]
  },
  {
   "cell_type": "code",
   "execution_count": null,
   "id": "55f39df8",
   "metadata": {},
   "outputs": [],
   "source": [
    "df['date'].value_counts()[:10]"
   ]
  },
  {
   "cell_type": "code",
   "execution_count": null,
   "id": "883922c2",
   "metadata": {},
   "outputs": [],
   "source": [
    "df['latitude'] = df['latitude'].astype('float64')"
   ]
  },
  {
   "cell_type": "code",
   "execution_count": null,
   "id": "d92a32a7",
   "metadata": {},
   "outputs": [],
   "source": [
    "import geopandas as gpd\n",
    "from shapely.geometry import Point\n",
    "import matplotlib.pyplot as plt"
   ]
  },
  {
   "cell_type": "code",
   "execution_count": null,
   "id": "2df1fbc8",
   "metadata": {},
   "outputs": [],
   "source": [
    "geometry = [Point(lon, lat) for lon, lat in zip(df['longitude '], df['latitude'])]\n",
    "gdf = gpd.GeoDataFrame(df, geometry=geometry, crs=\"EPSG:4326\")\n",
    "world = gpd.read_file(gpd.datasets.get_path('naturalearth_lowres'))\n",
    "ax = world.plot(figsize=(20, 12), color='lightgray')\n",
    "gdf.plot(ax=ax, color='green', markersize=1, figsize=(20,12), alpha=1)\n",
    "plt.show()"
   ]
  }
 ],
 "metadata": {
  "kernelspec": {
   "display_name": "Python 3 (ipykernel)",
   "language": "python",
   "name": "python3"
  },
  "language_info": {
   "codemirror_mode": {
    "name": "ipython",
    "version": 3
   },
   "file_extension": ".py",
   "mimetype": "text/x-python",
   "name": "python",
   "nbconvert_exporter": "python",
   "pygments_lexer": "ipython3",
   "version": "3.8.5"
  }
 },
 "nbformat": 4,
 "nbformat_minor": 5
}
